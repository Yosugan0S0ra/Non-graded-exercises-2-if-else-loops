{
 "cells": [
  {
   "cell_type": "markdown",
   "metadata": {},
   "source": [
    "enumerate() method: "
   ]
  },
  {
   "cell_type": "code",
   "execution_count": 2,
   "metadata": {},
   "outputs": [
    {
     "name": "stdout",
     "output_type": "stream",
     "text": [
      "1 H\n",
      "2 o\n",
      "3 w\n",
      "4 l\n",
      "5 '\n",
      "6 s\n",
      "7  \n",
      "8 M\n",
      "9 o\n",
      "10 v\n",
      "11 i\n",
      "12 n\n",
      "13 g\n",
      "14  \n",
      "15 C\n",
      "16 a\n",
      "17 s\n",
      "18 t\n",
      "19 l\n",
      "20 e\n"
     ]
    }
   ],
   "source": [
    "str1 = \"Howl's Moving Castle\"\n",
    "for index,item in enumerate(str1,1): \n",
    "    print (index,item)\n"
   ]
  },
  {
   "cell_type": "markdown",
   "metadata": {},
   "source": [
    "join() method:"
   ]
  },
  {
   "cell_type": "code",
   "execution_count": 3,
   "metadata": {},
   "outputs": [
    {
     "data": {
      "text/plain": [
       "'Baa baa black sheep'"
      ]
     },
     "execution_count": 3,
     "metadata": {},
     "output_type": "execute_result"
    }
   ],
   "source": [
    "some_list = ['Baa', 'baa', 'black', 'sheep']\n",
    "\" \".join(some_list)\n"
   ]
  },
  {
   "cell_type": "markdown",
   "metadata": {},
   "source": [
    "random() method:"
   ]
  },
  {
   "cell_type": "code",
   "execution_count": 39,
   "metadata": {},
   "outputs": [
    {
     "name": "stdout",
     "output_type": "stream",
     "text": [
      "baa\n",
      "black\n"
     ]
    }
   ],
   "source": [
    "import random\n",
    "some_list = ['Baa', 'baa', 'black', 'sheep']\n",
    "random_element = random.choice(some_list)\n",
    "print(random_element)\n",
    "\n",
    "x = random.randint(0,3)\n",
    "print(some_list[x])"
   ]
  }
 ],
 "metadata": {
  "kernelspec": {
   "display_name": "Python 3",
   "language": "python",
   "name": "python3"
  },
  "language_info": {
   "codemirror_mode": {
    "name": "ipython",
    "version": 3
   },
   "file_extension": ".py",
   "mimetype": "text/x-python",
   "name": "python",
   "nbconvert_exporter": "python",
   "pygments_lexer": "ipython3",
   "version": "3.11.2"
  }
 },
 "nbformat": 4,
 "nbformat_minor": 2
}
