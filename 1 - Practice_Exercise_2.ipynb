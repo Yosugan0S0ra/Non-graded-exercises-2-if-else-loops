{
 "cells": [
  {
   "cell_type": "markdown",
   "metadata": {},
   "source": [
    "1. Ask user to enter a string and check that it is made up only alphabets:"
   ]
  },
  {
   "cell_type": "code",
   "execution_count": null,
   "metadata": {},
   "outputs": [],
   "source": [
    "user_input = input(\"enter: \")\n",
    "if user_input.isalpha():\n",
    "    print(\"1\")\n",
    "else:\n",
    "    print(\"2\")\n"
   ]
  },
  {
   "cell_type": "markdown",
   "metadata": {},
   "source": [
    "2. Now, make sure that the string is made up of both alphabets and numbers:\n",
    "\n",
    "TRY using isalnum() function and then entering only alhpabets in the string and see what happens."
   ]
  },
  {
   "cell_type": "code",
   "execution_count": 1,
   "metadata": {},
   "outputs": [
    {
     "name": "stdout",
     "output_type": "stream",
     "text": [
      "1\n"
     ]
    }
   ],
   "source": [
    "user_input = input(\"Enter: \")\n",
    "if user_input.isalnum():\n",
    "    print(\"1\")\n",
    "else:\n",
    "    print(\"2\")\n"
   ]
  },
  {
   "cell_type": "markdown",
   "metadata": {},
   "source": [
    "3. Now, make sure that the string is made up of both alphabets and at least one number:\n"
   ]
  },
  {
   "cell_type": "code",
   "execution_count": 2,
   "metadata": {},
   "outputs": [
    {
     "name": "stdout",
     "output_type": "stream",
     "text": [
      "2\n"
     ]
    }
   ],
   "source": [
    "user = input(\"请输入: \")\n",
    "num = False\n",
    "alpha = False\n",
    "\n",
    "for x in user:\n",
    "    if x.isalpha():\n",
    "        alpha = True\n",
    "    elif x.isdigit():\n",
    "        num = True\n",
    "    else:\n",
    "        break\n",
    "\n",
    "if num and alpha:\n",
    "    print(\"1\")\n",
    "else:\n",
    "    print(\"2\")\n"
   ]
  },
  {
   "cell_type": "markdown",
   "metadata": {},
   "source": [
    "4. Now, make sure that the string is made up of both alphabets, at least one number, and at least one special character:"
   ]
  },
  {
   "cell_type": "code",
   "execution_count": 2,
   "metadata": {},
   "outputs": [
    {
     "name": "stdout",
     "output_type": "stream",
     "text": [
      "1\n"
     ]
    }
   ],
   "source": [
    "user = input(\"请输入: \")\n",
    "num = False\n",
    "alpha = False\n",
    "special = False\n",
    "\n",
    "for x in user:\n",
    "    if x.isalpha():\n",
    "        alpha = True\n",
    "    elif x.isdigit():\n",
    "        num = True\n",
    "    elif not x.isalnum():\n",
    "        special = True\n",
    "    else:\n",
    "        break\n",
    "\n",
    "if num and alpha and special:\n",
    "    print(\"1\")\n",
    "else:\n",
    "    print(\"2\")\n"
   ]
  },
  {
   "cell_type": "markdown",
   "metadata": {},
   "source": [
    "5. Now, modify the above code so that if the user enters an invalid string, the program should ask the user to enter another string again, and keep asking until a valid string has been entered."
   ]
  },
  {
   "cell_type": "code",
   "execution_count": 1,
   "metadata": {},
   "outputs": [
    {
     "name": "stdout",
     "output_type": "stream",
     "text": [
      "asdasd is wrong,plz retry\n",
      "asd1231 is wrong,plz retry\n",
      "true\n"
     ]
    }
   ],
   "source": [
    "num = False\n",
    "alpha = False\n",
    "special = False\n",
    "while True:\n",
    "    user = input(\"请输入: \")\n",
    "    for x in user:\n",
    "        if x.isalpha():\n",
    "            alpha = True\n",
    "        elif x.isdigit():\n",
    "            num = True\n",
    "        elif not x.isalnum():\n",
    "            special = True\n",
    "        else:\n",
    "            break\n",
    "    if num and alpha and special:\n",
    "        print(\"true\")\n",
    "        break\n",
    "    else:\n",
    "        print(\"%s is wrong,plz retry\"%(user))\n",
    "\n",
    "\n"
   ]
  }
 ],
 "metadata": {
  "kernelspec": {
   "display_name": "Python 3",
   "language": "python",
   "name": "python3"
  },
  "language_info": {
   "codemirror_mode": {
    "name": "ipython",
    "version": 3
   },
   "file_extension": ".py",
   "mimetype": "text/x-python",
   "name": "python",
   "nbconvert_exporter": "python",
   "pygments_lexer": "ipython3",
   "version": "3.11.2"
  }
 },
 "nbformat": 4,
 "nbformat_minor": 2
}
